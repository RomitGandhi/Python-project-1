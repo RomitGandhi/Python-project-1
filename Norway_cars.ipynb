{
  "nbformat": 4,
  "nbformat_minor": 0,
  "metadata": {
    "colab": {
      "name": "Norway cars.ipynb",
      "provenance": [],
      "collapsed_sections": [],
      "toc_visible": true,
      "authorship_tag": "ABX9TyOP+G02Os1GxcCSTh7JZkfX",
      "include_colab_link": true
    },
    "kernelspec": {
      "name": "python3",
      "display_name": "Python 3"
    }
  },
  "cells": [
    {
      "cell_type": "markdown",
      "metadata": {
        "id": "view-in-github",
        "colab_type": "text"
      },
      "source": [
        "<a href=\"https://colab.research.google.com/github/RomitGandhi/Python-project-1/blob/master/Norway_cars.ipynb\" target=\"_parent\"><img src=\"https://colab.research.google.com/assets/colab-badge.svg\" alt=\"Open In Colab\"/></a>"
      ]
    },
    {
      "cell_type": "code",
      "metadata": {
        "id": "g_vZo_H0zTNc"
      },
      "source": [
        "import pandas as pd"
      ],
      "execution_count": 7,
      "outputs": []
    },
    {
      "cell_type": "code",
      "metadata": {
        "id": "AAKhBzwvzpzt"
      },
      "source": [
        "data = pd.read_csv(\"/norway_new_car_sales_by_make.csv\")\r\n",
        "# read csv file into dataframe\r\n"
      ],
      "execution_count": 10,
      "outputs": []
    },
    {
      "cell_type": "code",
      "metadata": {
        "id": "SBUy2dPm_BEU"
      },
      "source": [
        " data[\"Period\"] = data[\"Year\"].astype(str) + \"-\" + data[\"Month\"].astype(str)"
      ],
      "execution_count": 11,
      "outputs": []
    },
    {
      "cell_type": "code",
      "metadata": {
        "colab": {
          "base_uri": "https://localhost:8080/"
        },
        "id": "PgE6mSEDC15-",
        "outputId": "e05050c5-2e87-4d6a-8321-bf44ac419c5d"
      },
      "source": [
        "is_2012 =  data[\"Year\"]<2012\r\n",
        "print(is_2012.head())"
      ],
      "execution_count": 12,
      "outputs": [
        {
          "output_type": "stream",
          "text": [
            "0    True\n",
            "1    True\n",
            "2    True\n",
            "3    True\n",
            "4    True\n",
            "Name: Year, dtype: bool\n"
          ],
          "name": "stdout"
        }
      ]
    },
    {
      "cell_type": "markdown",
      "metadata": {
        "id": "TlfbybcSAhQ6"
      },
      "source": [
        "# New section"
      ]
    },
    {
      "cell_type": "code",
      "metadata": {
        "colab": {
          "base_uri": "https://localhost:8080/"
        },
        "id": "-uv1UEU3FuQ9",
        "outputId": "d9501ed4-859b-493f-f131-055cc50eaf54"
      },
      "source": [
        "data1 = data.loc[is_2012]\r\n",
        "print(data1.shape)\r\n"
      ],
      "execution_count": 13,
      "outputs": [
        {
          "output_type": "stream",
          "text": [
            "(2253, 6)\n"
          ],
          "name": "stdout"
        }
      ]
    },
    {
      "cell_type": "code",
      "metadata": {
        "colab": {
          "base_uri": "https://localhost:8080/"
        },
        "id": "Q9viv2XNGQfL",
        "outputId": "9ed9d480-d5a8-43ac-f4e8-78dc15ab45f4"
      },
      "source": [
        "data.shape"
      ],
      "execution_count": 14,
      "outputs": [
        {
          "output_type": "execute_result",
          "data": {
            "text/plain": [
              "(4377, 6)"
            ]
          },
          "metadata": {
            "tags": []
          },
          "execution_count": 14
        }
      ]
    },
    {
      "cell_type": "code",
      "metadata": {
        "id": "AC9coxihGUBQ"
      },
      "source": [
        "\r\n"
      ],
      "execution_count": 14,
      "outputs": []
    },
    {
      "cell_type": "code",
      "metadata": {
        "id": "bmyFTF62GjSf"
      },
      "source": [
        "data1  = pd.DataFrame(data1)"
      ],
      "execution_count": 15,
      "outputs": []
    },
    {
      "cell_type": "code",
      "metadata": {
        "id": "z0OcRRx5JK2x"
      },
      "source": [
        "data1[\"Period\"] = data1[\"Year\"].astype(str) + \"-\" + data1[\"Month\"].astype(str)"
      ],
      "execution_count": 16,
      "outputs": []
    },
    {
      "cell_type": "code",
      "metadata": {
        "id": "P17rOChYJfeU"
      },
      "source": [
        "# We use the datetime formatting to make sure format is consistent \r\n",
        "data1[\"Period\"] = pd.to_datetime(data1[\"Period\"]).dt.strftime(\"%Y-%m\")"
      ],
      "execution_count": 17,
      "outputs": []
    },
    {
      "cell_type": "code",
      "metadata": {
        "colab": {
          "base_uri": "https://localhost:8080/"
        },
        "id": "W5qPy0bEKKzX",
        "outputId": "c1bfe510-a3da-4668-fdb5-57b0c5f2e697"
      },
      "source": [
        "print (data1[\"Period\"]) "
      ],
      "execution_count": 18,
      "outputs": [
        {
          "output_type": "stream",
          "text": [
            "0       2007-01\n",
            "1       2007-01\n",
            "2       2007-01\n",
            "3       2007-01\n",
            "4       2007-01\n",
            "         ...   \n",
            "2248    2011-12\n",
            "2249    2011-12\n",
            "2250    2011-12\n",
            "2251    2011-12\n",
            "2252    2011-12\n",
            "Name: Period, Length: 2253, dtype: object\n"
          ],
          "name": "stdout"
        }
      ]
    },
    {
      "cell_type": "code",
      "metadata": {
        "colab": {
          "base_uri": "https://localhost:8080/"
        },
        "id": "oZ0oH_cIKd6Z",
        "outputId": "74be0a76-0a58-446a-882e-f019cfb2447e"
      },
      "source": [
        "print (data1[\"Period\"]) "
      ],
      "execution_count": 19,
      "outputs": [
        {
          "output_type": "stream",
          "text": [
            "0       2007-01\n",
            "1       2007-01\n",
            "2       2007-01\n",
            "3       2007-01\n",
            "4       2007-01\n",
            "         ...   \n",
            "2248    2011-12\n",
            "2249    2011-12\n",
            "2250    2011-12\n",
            "2251    2011-12\n",
            "2252    2011-12\n",
            "Name: Period, Length: 2253, dtype: object\n"
          ],
          "name": "stdout"
        }
      ]
    },
    {
      "cell_type": "code",
      "metadata": {
        "id": "DftYXtxuLElO"
      },
      "source": [
        "df = pd.pivot_table(data=data1, values=\"Quantity\", index=\"Make\", columns=\"Period\", aggfunc='sum', fill_value=0) "
      ],
      "execution_count": 20,
      "outputs": []
    },
    {
      "cell_type": "code",
      "metadata": {
        "colab": {
          "base_uri": "https://localhost:8080/"
        },
        "id": "XyVKWh76M1WW",
        "outputId": "78b28177-3d8a-4fe4-b9a3-d3342ed215c0"
      },
      "source": [
        "df.head"
      ],
      "execution_count": 21,
      "outputs": [
        {
          "output_type": "execute_result",
          "data": {
            "text/plain": [
              "<bound method NDFrame.head of Period         2007-01  2007-02  2007-03  ...  2011-10  2011-11  2011-12\n",
              "Make                                      ...                           \n",
              "Alfa Romeo          16        9       21  ...       27       26       34\n",
              "Aston Martin         0        0        1  ...        0        2        0\n",
              "Audi               599      498      682  ...      587      601      603\n",
              "BMW                352      335      365  ...      639      591      328\n",
              "Bentley              0        0        0  ...        0        0        0\n",
              "Cadillac             0        1        4  ...        0        0        0\n",
              "Chevrolet           20       35       52  ...        4        2        3\n",
              "Chevrolet US         0        3        0  ...        0        0        1\n",
              "Chrysler             4        5        3  ...        0        0        0\n",
              "Citroen            263      247      239  ...      370      302      274\n",
              "Dacia                0        0        0  ...        2        0        0\n",
              "Daihatsu            15       22       27  ...        1        1        1\n",
              "Dodge               33       24       25  ...        0        0        0\n",
              "Ferrari              0        0        0  ...        0        0        0\n",
              "Fiat                 9        6       20  ...       74       53       43\n",
              "Ford               870      686      766  ...     1147     1282     1377\n",
              "Honda              423      356      399  ...      131      106      122\n",
              "Hyundai             97      149      228  ...      432      543      498\n",
              "Infiniti             0        0        0  ...        0        0        0\n",
              "Isuzu                0        0        0  ...        0        0        0\n",
              "Iveco                4        0        5  ...       12        7        1\n",
              "Jaguar               3        5        9  ...        2        6        4\n",
              "Jeep                 2        6       33  ...        1        0        7\n",
              "Kia                 55      119      171  ...      200      246      401\n",
              "Koenigsegg           0        0        0  ...        0        0        0\n",
              "Lamborghini          0        0        0  ...        0        0        0\n",
              "Lancia               0        0        0  ...        0        0        0\n",
              "Land Rover          14       30       40  ...       49       49       46\n",
              "Lexus               22       17       18  ...       57       31       16\n",
              "Lotus                0        0        0  ...        1        0        0\n",
              "MINI                26       32       28  ...       83       63       79\n",
              "Maserati             0        0        0  ...        0        0        0\n",
              "Mazda              191      239      319  ...       97      166      144\n",
              "Mercedes-Benz      362      410      387  ...      373      406      395\n",
              "Mitsubishi         136      262      512  ...      502      702      598\n",
              "Morgan               0        0        0  ...        0        0        0\n",
              "Nilsson              2        6        1  ...        0        2        0\n",
              "Nissan             127      134      327  ...      438      618      432\n",
              "Opel               622      551      578  ...      308      339      265\n",
              "Peugeot           1029      621      867  ...      535      622      453\n",
              "Porsche              0        2       14  ...       18       14        8\n",
              "Renault            168       84      131  ...       55       77       90\n",
              "Saab               169      175      243  ...        4        0        2\n",
              "Seat                 0        0        0  ...        0        0        0\n",
              "Secma                0        0        0  ...        0        0        0\n",
              "Skoda              665      463      491  ...      770      593      748\n",
              "Smart                1        5        0  ...        5        4        6\n",
              "Ssangyong            1        2        0  ...       11        9       10\n",
              "Subaru              26       18        7  ...      242      190      221\n",
              "Suzuki             258      264      333  ...      224      250      138\n",
              "Tata                 0        0        0  ...        0        0        0\n",
              "Tesla                0        0        0  ...        1        1        3\n",
              "Think                2        0        0  ...        8        2        2\n",
              "Toyota            2884     1885     1833  ...     1218     1298      932\n",
              "Volkswagen        2521     1517     1428  ...     1854     1960     2030\n",
              "Volvo              693      570      656  ...     1061     1193     1235\n",
              "\n",
              "[56 rows x 60 columns]>"
            ]
          },
          "metadata": {
            "tags": []
          },
          "execution_count": 21
        }
      ]
    },
    {
      "cell_type": "code",
      "metadata": {
        "id": "NvS2EALAM3_-"
      },
      "source": [
        "df.to_excel(\"Clean Demand.xlsx\")"
      ],
      "execution_count": 22,
      "outputs": []
    },
    {
      "cell_type": "code",
      "metadata": {
        "id": "tzKlPEaNzpsy"
      },
      "source": [
        "def datasets(df, x_len=12, y_len=1, y_test_len=12):\r\n",
        "  D = df.values\r\n",
        "  periods = D.shape[1]\r\n",
        "  loops = periods + 1 - x_len - y_len - y_test_len \r\n",
        "  print(loops)"
      ],
      "execution_count": 23,
      "outputs": []
    },
    {
      "cell_type": "code",
      "metadata": {
        "colab": {
          "base_uri": "https://localhost:8080/"
        },
        "id": "GcCGZSZtThPN",
        "outputId": "a4da4285-4ca7-41a7-d902-02b54f6d4e34"
      },
      "source": [
        "datasets(df)"
      ],
      "execution_count": 24,
      "outputs": [
        {
          "output_type": "stream",
          "text": [
            "36\n"
          ],
          "name": "stdout"
        }
      ]
    },
    {
      "cell_type": "code",
      "metadata": {
        "id": "h-d-6ZWsTiH7"
      },
      "source": [
        "D = df.values\r\n",
        "periods = D.shape[1]"
      ],
      "execution_count": 25,
      "outputs": []
    },
    {
      "cell_type": "code",
      "metadata": {
        "id": "gBy5Mu8yENHt"
      },
      "source": [
        "x_len=12\r\n",
        "y_len = 1\r\n",
        "y_test_len=12\r\n",
        "loops = periods + 1 - x_len - y_len - y_test_len"
      ],
      "execution_count": 26,
      "outputs": []
    },
    {
      "cell_type": "code",
      "metadata": {
        "colab": {
          "base_uri": "https://localhost:8080/"
        },
        "id": "4qTZ8c2RES4r",
        "outputId": "3ac5af16-0739-44d9-aab7-79307a306af7"
      },
      "source": [
        "print(loops)"
      ],
      "execution_count": 27,
      "outputs": [
        {
          "output_type": "stream",
          "text": [
            "36\n"
          ],
          "name": "stdout"
        }
      ]
    },
    {
      "cell_type": "code",
      "metadata": {
        "id": "-IvHyMo9EqK3"
      },
      "source": [
        "import numpy as np\r\n",
        "train = []\r\n",
        "for col in range(loops):\r\n",
        "  train.append(D[:,col:col+x_len+y_len])\r\n",
        "\r\n",
        " "
      ],
      "execution_count": 32,
      "outputs": []
    },
    {
      "cell_type": "code",
      "metadata": {
        "id": "gL9uSxFgAK9g"
      },
      "source": [
        "train = np.vstack(train)"
      ],
      "execution_count": 34,
      "outputs": []
    },
    {
      "cell_type": "code",
      "metadata": {
        "colab": {
          "base_uri": "https://localhost:8080/"
        },
        "id": "ArerHzDBB7Ro",
        "outputId": "b320f028-1907-45f3-ba7b-4f4d7981b9c0"
      },
      "source": [
        "train"
      ],
      "execution_count": 35,
      "outputs": [
        {
          "output_type": "execute_result",
          "data": {
            "text/plain": [
              "array([[  16,    9,   21, ...,   18,   21,   15],\n",
              "       [   0,    0,    1, ...,    0,    0,    0],\n",
              "       [ 599,  498,  682, ...,  448,  462,  429],\n",
              "       ...,\n",
              "       [1117, 1894, 1287, ..., 1379, 1511,  668],\n",
              "       [1571, 1524, 1411, ..., 1659, 1824, 1298],\n",
              "       [1217,  652,  842, ...,  922,  939, 1314]])"
            ]
          },
          "metadata": {
            "tags": []
          },
          "execution_count": 35
        }
      ]
    },
    {
      "cell_type": "code",
      "metadata": {
        "id": "J3JKpWB0CCvJ"
      },
      "source": [
        "X_train, Y_train = np.split(train,[x_len],axis=1)"
      ],
      "execution_count": 36,
      "outputs": []
    },
    {
      "cell_type": "code",
      "metadata": {
        "colab": {
          "base_uri": "https://localhost:8080/"
        },
        "id": "fGvxTTx8CJWM",
        "outputId": "2a4f5b89-1aa9-4cbc-a4e3-ba3bdf6cdd6f"
      },
      "source": [
        "X_train"
      ],
      "execution_count": 37,
      "outputs": [
        {
          "output_type": "execute_result",
          "data": {
            "text/plain": [
              "array([[  16,    9,   21, ...,   10,   18,   21],\n",
              "       [   0,    0,    1, ...,    0,    0,    0],\n",
              "       [ 599,  498,  682, ...,  554,  448,  462],\n",
              "       ...,\n",
              "       [1117, 1894, 1287, ..., 1461, 1379, 1511],\n",
              "       [1571, 1524, 1411, ..., 1575, 1659, 1824],\n",
              "       [1217,  652,  842, ...,  827,  922,  939]])"
            ]
          },
          "metadata": {
            "tags": []
          },
          "execution_count": 37
        }
      ]
    },
    {
      "cell_type": "code",
      "metadata": {
        "colab": {
          "base_uri": "https://localhost:8080/"
        },
        "id": "KcVjIuY2CYou",
        "outputId": "11e7dc9e-1f86-4ca8-f5f0-8aeaad1f5c37"
      },
      "source": [
        "Y_train"
      ],
      "execution_count": 38,
      "outputs": [
        {
          "output_type": "execute_result",
          "data": {
            "text/plain": [
              "array([[  15],\n",
              "       [   0],\n",
              "       [ 429],\n",
              "       ...,\n",
              "       [ 668],\n",
              "       [1298],\n",
              "       [1314]])"
            ]
          },
          "metadata": {
            "tags": []
          },
          "execution_count": 38
        }
      ]
    },
    {
      "cell_type": "code",
      "metadata": {
        "id": "8f2PJ0BOCbyK"
      },
      "source": [
        " max_col_test = periods - x_len - y_len + 1\r\n",
        " test = []\r\n",
        " for col in range(loops,max_col_test):\r\n",
        "  test.append(D[:,col:col+x_len+y_len])\r\n",
        " test = np.vstack(test)\r\n",
        " X_test, Y_test = np.split(test,[x_len],axis=1)"
      ],
      "execution_count": 40,
      "outputs": []
    },
    {
      "cell_type": "code",
      "metadata": {
        "id": "dnTIQrORC8fJ"
      },
      "source": [
        "if y_len == 1:\r\n",
        " Y_train = Y_train.ravel()\r\n",
        " Y_test = Y_test.ravel()"
      ],
      "execution_count": 41,
      "outputs": []
    },
    {
      "cell_type": "code",
      "metadata": {
        "colab": {
          "base_uri": "https://localhost:8080/"
        },
        "id": "hJoNE_GPDe-W",
        "outputId": "ad65bdfc-e82b-449e-b11e-7e131e46fc83"
      },
      "source": [
        "Y_train"
      ],
      "execution_count": 42,
      "outputs": [
        {
          "output_type": "execute_result",
          "data": {
            "text/plain": [
              "array([  15,    0,  429, ...,  668, 1298, 1314])"
            ]
          },
          "metadata": {
            "tags": []
          },
          "execution_count": 42
        }
      ]
    },
    {
      "cell_type": "code",
      "metadata": {
        "colab": {
          "base_uri": "https://localhost:8080/"
        },
        "id": "6XtS2pdZDjfN",
        "outputId": "b498c702-c265-4c11-eedf-5b4420e2037e"
      },
      "source": [
        "from sklearn.tree import DecisionTreeRegressor \r\n",
        " \r\n",
        "# — Instantiate a Decision Tree Regressor \r\n",
        "tree = DecisionTreeRegressor(max_depth=5,min_samples_leaf=5) \r\n",
        " \r\n",
        "# — Fit the tree to the training data \r\n",
        "tree.fit(X_train,Y_train)"
      ],
      "execution_count": 43,
      "outputs": [
        {
          "output_type": "execute_result",
          "data": {
            "text/plain": [
              "DecisionTreeRegressor(ccp_alpha=0.0, criterion='mse', max_depth=5,\n",
              "                      max_features=None, max_leaf_nodes=None,\n",
              "                      min_impurity_decrease=0.0, min_impurity_split=None,\n",
              "                      min_samples_leaf=5, min_samples_split=2,\n",
              "                      min_weight_fraction_leaf=0.0, presort='deprecated',\n",
              "                      random_state=None, splitter='best')"
            ]
          },
          "metadata": {
            "tags": []
          },
          "execution_count": 43
        }
      ]
    },
    {
      "cell_type": "code",
      "metadata": {
        "colab": {
          "base_uri": "https://localhost:8080/"
        },
        "id": "btLwARZRFljl",
        "outputId": "abeaa706-8c4e-44a8-8222-af64d349327a"
      },
      "source": [
        "# Create a prediction based on our model \r\n",
        "Y_train_pred = tree.predict(X_train) \r\n",
        " \r\n",
        "# Compute the Mean Absolute Error of the model \r\n",
        "import numpy as np\r\n",
        "MAE_tree = np.mean(abs(Y_train - Y_train_pred))/np.mean(Y_train) \r\n",
        " \r\n",
        "# Print the results \r\n",
        "print(\"Tree on train set MAE%:\",round(MAE_tree*100,1))"
      ],
      "execution_count": 48,
      "outputs": [
        {
          "output_type": "stream",
          "text": [
            "Tree on train set MAE%: 17.8\n"
          ],
          "name": "stdout"
        }
      ]
    },
    {
      "cell_type": "code",
      "metadata": {
        "colab": {
          "base_uri": "https://localhost:8080/"
        },
        "id": "hiWhSE8YFtm5",
        "outputId": "7e42dcc4-a6dc-4f11-ca4b-b60080e756b7"
      },
      "source": [
        "Y_test_pred = tree.predict(X_test) \r\n",
        "MAE_test = np.mean(abs(Y_test - Y_test_pred))/np.mean(Y_test) \r\n",
        "print(\"Tree on test set MAE%:\",round(MAE_test*100,1))\r\n"
      ],
      "execution_count": 50,
      "outputs": [
        {
          "output_type": "stream",
          "text": [
            "Tree on test set MAE%: 20.8\n"
          ],
          "name": "stdout"
        }
      ]
    },
    {
      "cell_type": "code",
      "metadata": {
        "id": "ZOAojIHFF-uo"
      },
      "source": [
        ""
      ],
      "execution_count": null,
      "outputs": []
    }
  ]
}